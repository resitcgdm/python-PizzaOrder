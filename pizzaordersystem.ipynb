{
  "cells": [
    {
      "cell_type": "code",
      "execution_count": 1,
      "metadata": {
        "id": "EIDipatxFYPw"
      },
      "outputs": [],
      "source": [
        "import csv \n",
        "from datetime import datetime"
      ]
    },
    {
      "cell_type": "code",
      "execution_count": 2,
      "metadata": {
        "id": "EkLL0mkWGZzX"
      },
      "outputs": [],
      "source": [
        "class Pizza(): \n",
        "  def __init__(self,description,cost):\n",
        "    self.description = description\n",
        "    self.cost = cost\n",
        "  def get_description(self):\n",
        "    return self.description\n",
        "  def get_cost(self):\n",
        "    return self.cost"
      ]
    },
    {
      "cell_type": "code",
      "execution_count": 3,
      "metadata": {
        "id": "73ooxMT9Gs6a"
      },
      "outputs": [],
      "source": [
        "class Klasik(Pizza):\n",
        "  def __init__(self):\n",
        "    super().__init__(description = \"Klasik\", cost = 10)\n",
        "  \n",
        "class Margarita(Pizza):\n",
        "  def __init__(self):\n",
        "    super().__init__(description = \"Margarita\", cost = 12)\n",
        "\n",
        "class TurkPizza(Pizza):\n",
        "  def __init__(self):\n",
        "    super().__init__(description = \"TürkPizza\", cost = 11)\n",
        "\n",
        "class Dominos(Pizza):\n",
        "  def __init__(self):\n",
        "\n",
        "    super().__init__(description = \"Dominos\", cost = 10)\n"
      ]
    },
    {
      "cell_type": "code",
      "execution_count": 4,
      "metadata": {
        "id": "OoJzZCvjJrK8"
      },
      "outputs": [],
      "source": [
        "class Sos(Pizza):\n",
        "   def __init__(self,description,cost):\n",
        "    super().__init__(description, cost)\n"
      ]
    },
    {
      "cell_type": "code",
      "execution_count": 5,
      "metadata": {
        "id": "aXxy-K8KI9oY"
      },
      "outputs": [],
      "source": [
        "class zeytin(Sos):\n",
        "  def __init__(self):\n",
        "    super().__init__(description = \"Zeytin\", cost = 2)\n",
        "  \n",
        "class mantar(Sos):\n",
        "  def __init__(self):\n",
        "    super().__init__(description = \"Mantar\", cost = 3)\n",
        "\n",
        "class keci_peyniri(Sos):\n",
        "  def __init__(self):\n",
        "    super().__init__(description = \"Keçi Peyniri\", cost = 3)\n",
        "\n",
        "class et(Sos):\n",
        "  def __init__(self):\n",
        "    super().__init__(description = \"Et\", cost = 5)\n",
        "class sogan(Sos):\n",
        "  def __init__(self):\n",
        "    super().__init__(description = \"Soğan\", cost = 4)\n",
        "class misir(Sos):\n",
        "  def __init__(self):\n",
        "    super().__init__(description = \"Mısır\", cost = 2)\n"
      ]
    },
    {
      "cell_type": "code",
      "execution_count": 9,
      "metadata": {
        "id": "iKy9M3EDN-9x"
      },
      "outputs": [],
      "source": [
        "def main():\n",
        "  text = open('Menu.txt').read()\n",
        "  print(text)\n",
        "  print(\"Lütfen isimleri doğru girdiğinizden emin olun! Büyük küçük harflere uyunuz.\")\n",
        "  pizz = input(\"Pizza Tabanı: \")\n",
        "  sos = input(\"Sos: \")\n",
        "\n",
        "  if pizz == 'Klasik':\n",
        "    pizza1 = Klasik()\n",
        "  elif pizz == 'Margarita':\n",
        "    pizza1 = Margarita()\n",
        "  elif pizz == 'TürkPizza':\n",
        "    pizza1 = TurkPizza()\n",
        "  elif pizz == 'Dominos':\n",
        "    pizza1 = Dominos()\n",
        "  else:\n",
        "    print(\"Pizza ismini doğru girdiğinizden emin olun!\")\n",
        "  \n",
        "  if sos == 'Zeytin':\n",
        "    sos1 = zeytin()\n",
        "  elif sos == 'Mantar':\n",
        "    sos1 = mantar()\n",
        "  elif sos == 'Keçi Peyniri':\n",
        "    sos1 = keci_peyniri()\n",
        "  elif sos == 'Et':\n",
        "    sos1 = et()\n",
        "  elif sos == 'Soğan':\n",
        "    sos1 = sogan()\n",
        "  elif sos == 'Mısır':\n",
        "    sos1 = misir()\n",
        "  else:\n",
        "    print(\"Sos ismini doğru girdiğinizden emin olun!\")\n",
        "\n",
        "\n",
        "  print(\"Toplam tutar: \", int(pizza1.cost)+ int(sos1.cost), \"$\")\n",
        "  ad = input(\"İsminizi giriniz: \")\n",
        "  tc = input(\"TC kimlik numaranızı giriniz: \")\n",
        "  if not int:\n",
        "    print(\"Lütfen geçerli bir TC kimlik numarası giriniz! \")\n",
        "  kk = input(\"Kredi kartı numaranızı giriniz: \")\n",
        "  if not int:\n",
        "    print(\"Lütfen geçerli bir kredi kartı numarası giriniz! \")\n",
        "  ps = input(\"Şifrenizi giriniz: \")\n",
        "  if not int:\n",
        "    print(\"Lütfen geçerli bir şifre giriniz! \")\n",
        "  siparis = pizz + \" ve \" + sos\n",
        "  time = datetime.now()\n",
        "   \n",
        "  with open('orders.csv', mode='a', newline='') as file:\n",
        "            writer = csv.writer(file)\n",
        "            writer.writerow([ad, tc, kk, ps, siparis, time, f\"{int(pizza1.cost)+ int(sos1.cost)}$\"])\n",
        "\n",
        "\n",
        "            \n"
      ]
    },
    {
      "cell_type": "code",
      "source": [
        "headerList = ['İsim', 'TC', 'Kredi Kart No', 'Şifre','Sipariş Özet', 'Tarih', 'Fiyat']\n",
        "  \n",
        "# open CSV file and assign header\n",
        "with open(\"orders.csv\", 'w') as file:\n",
        "    dw = csv.DictWriter(file, delimiter=',', \n",
        "                        fieldnames=headerList)\n",
        "    dw.writeheader()"
      ],
      "metadata": {
        "id": "IOF63nF-AUxm"
      },
      "execution_count": 7,
      "outputs": []
    },
    {
      "cell_type": "code",
      "execution_count": 8,
      "metadata": {
        "colab": {
          "base_uri": "https://localhost:8080/"
        },
        "id": "I1Jkr9lWOdQE",
        "outputId": "adcb9b0a-baf1-4d5a-adcc-569336ce5ab2"
      },
      "outputs": [
        {
          "output_type": "stream",
          "name": "stdout",
          "text": [
            "* Lütfen Bir Pizza Tabanı Seçiniz:\n",
            " Klasik : 10$\n",
            " Margarita : 12$\n",
            " TürkPizza : 11$\n",
            " Dominos : 10$\n",
            "\n",
            "* ve seçeceğiniz sos:\n",
            " Zeytin : 2$\n",
            " Mantar : 3$\n",
            " Keçi Peyniri : 3$\n",
            " Et : 5$\n",
            " Soğan : 4$\n",
            " Mısır : 2$\n",
            "* Teşekkür ederiz!\n",
            "Pizza Tabanı: Klasik\n",
            "Sos: Et\n",
            "Toplam tutar:  15 $\n",
            "İsminizi giriniz: zuhal\n",
            "TC kimlik numaranızı giriniz: 3456\n",
            "Kredi kartı numaranızı giriniz: 6543\n",
            "Şifrenizi giriniz: 234\n",
            "<bound method Pizza.get_description of <__main__.Klasik object at 0x7f37a5d899d0>>\n"
          ]
        }
      ],
      "source": [
        "main()"
      ]
    },
    {
      "cell_type": "code",
      "execution_count": null,
      "metadata": {
        "id": "_jv1YmZ0GMzX"
      },
      "outputs": [],
      "source": [
        "\n"
      ]
    }
  ],
  "metadata": {
    "colab": {
      "provenance": []
    },
    "kernelspec": {
      "display_name": "Python 3",
      "name": "python3"
    },
    "language_info": {
      "name": "python"
    }
  },
  "nbformat": 4,
  "nbformat_minor": 0
}